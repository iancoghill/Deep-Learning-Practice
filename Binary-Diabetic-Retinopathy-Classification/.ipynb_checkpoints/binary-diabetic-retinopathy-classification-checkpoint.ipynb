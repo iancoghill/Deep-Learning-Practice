{
 "cells": [
  {
   "cell_type": "markdown",
   "metadata": {},
   "source": [
    "### Diabetic Retinopathy Binary Classification\n",
    "#### Using transfer learning with the pretrained VGG16 model\n"
   ]
  },
  {
   "cell_type": "markdown",
   "metadata": {},
   "source": [
    "## Import Libraries"
   ]
  },
  {
   "cell_type": "code",
   "execution_count": 1,
   "metadata": {
    "_cell_guid": "b1076dfc-b9ad-4769-8c92-a6c4dae69d19",
    "_uuid": "8f2839f25d086af736a60e9eeb907d3b93b6e0e5"
   },
   "outputs": [],
   "source": [
    "from PIL import Image\n",
    "import pathlib\n",
    "import math\n",
    "from glob import glob\n",
    "import os\n",
    "import pandas as pd\n",
    "import numpy as np\n",
    "import matplotlib.pyplot as plt\n",
    "import matplotlib.image as mpimg\n",
    "import seaborn as sns\n",
    "%matplotlib inline\n",
    "\n",
    "np.random.seed(2)\n",
    "\n",
    "from sklearn.model_selection import train_test_split\n",
    "from sklearn.utils import shuffle\n",
    "from sklearn import metrics\n",
    "from sklearn.metrics import confusion_matrix\n",
    "import itertools\n",
    "\n",
    "from keras.applications.vgg16 import VGG16\n",
    "from keras import backend as K\n",
    "from keras.models import Model\n",
    "from keras.utils.np_utils import to_categorical # convert to one-hot-encoding\n",
    "from keras.models import Sequential\n",
    "from keras.layers.convolutional import Conv2D, MaxPooling2D\n",
    "from keras.layers import Dense, Dropout, Flatten, Input, MaxPool2D\n",
    "from keras.optimizers import RMSprop\n",
    "from keras.preprocessing.image import load_img,img_to_array,ImageDataGenerator\n",
    "from keras.callbacks import ReduceLROnPlateau"
   ]
  },
  {
   "cell_type": "markdown",
   "metadata": {},
   "source": [
    "## Data Preparation"
   ]
  },
  {
   "cell_type": "code",
   "execution_count": 2,
   "metadata": {},
   "outputs": [
    {
     "ename": "FileNotFoundError",
     "evalue": "[WinError 3] The system cannot find the path specified: '../input/diabetic-retinopathy-2015-data-colored-resized/colored_images/colored_images/No_DR'",
     "output_type": "error",
     "traceback": [
      "\u001b[1;31m---------------------------------------------------------------------------\u001b[0m",
      "\u001b[1;31mFileNotFoundError\u001b[0m                         Traceback (most recent call last)",
      "\u001b[1;32m<ipython-input-2-35e9d28caa35>\u001b[0m in \u001b[0;36m<module>\u001b[1;34m\u001b[0m\n\u001b[0;32m     24\u001b[0m \u001b[0mnoDR_dir\u001b[0m \u001b[1;33m=\u001b[0m \u001b[0mos\u001b[0m\u001b[1;33m.\u001b[0m\u001b[0mpath\u001b[0m\u001b[1;33m.\u001b[0m\u001b[0mjoin\u001b[0m\u001b[1;33m(\u001b[0m\u001b[0mpath\u001b[0m\u001b[1;33m,\u001b[0m \u001b[1;34m'No_DR'\u001b[0m\u001b[1;33m)\u001b[0m\u001b[1;33m\u001b[0m\u001b[1;33m\u001b[0m\u001b[0m\n\u001b[0;32m     25\u001b[0m \u001b[0mn_noDR\u001b[0m\u001b[1;33m=\u001b[0m\u001b[0mmath\u001b[0m\u001b[1;33m.\u001b[0m\u001b[0mceil\u001b[0m\u001b[1;33m(\u001b[0m\u001b[0mlen\u001b[0m\u001b[1;33m(\u001b[0m\u001b[0mglob\u001b[0m\u001b[1;33m(\u001b[0m\u001b[0mos\u001b[0m\u001b[1;33m.\u001b[0m\u001b[0mpath\u001b[0m\u001b[1;33m.\u001b[0m\u001b[0mjoin\u001b[0m\u001b[1;33m(\u001b[0m\u001b[0mpath\u001b[0m\u001b[1;33m,\u001b[0m \u001b[1;34m'No_DR/*'\u001b[0m\u001b[1;33m)\u001b[0m\u001b[1;33m)\u001b[0m\u001b[1;33m)\u001b[0m\u001b[1;33m/\u001b[0m\u001b[0mReductionFactor\u001b[0m\u001b[1;33m)\u001b[0m\u001b[1;33m\u001b[0m\u001b[1;33m\u001b[0m\u001b[0m\n\u001b[1;32m---> 26\u001b[1;33m \u001b[0mX_noDR\u001b[0m\u001b[1;33m=\u001b[0m\u001b[0mread_images\u001b[0m\u001b[1;33m(\u001b[0m\u001b[0mnoDR_dir\u001b[0m\u001b[1;33m,\u001b[0m\u001b[0mn_noDR\u001b[0m\u001b[1;33m)\u001b[0m\u001b[1;33m\u001b[0m\u001b[1;33m\u001b[0m\u001b[0m\n\u001b[0m\u001b[0;32m     27\u001b[0m \u001b[0mX_noDR\u001b[0m\u001b[1;33m=\u001b[0m\u001b[0mX_noDR\u001b[0m\u001b[1;33m.\u001b[0m\u001b[0mastype\u001b[0m\u001b[1;33m(\u001b[0m\u001b[0mnp\u001b[0m\u001b[1;33m.\u001b[0m\u001b[0muint8\u001b[0m\u001b[1;33m)\u001b[0m\u001b[1;33m\u001b[0m\u001b[1;33m\u001b[0m\u001b[0m\n\u001b[0;32m     28\u001b[0m \u001b[0mprint\u001b[0m\u001b[1;33m(\u001b[0m\u001b[1;34m\"No DR Shape: \"\u001b[0m\u001b[1;33m,\u001b[0m\u001b[0mX_noDR\u001b[0m\u001b[1;33m.\u001b[0m\u001b[0mshape\u001b[0m\u001b[1;33m)\u001b[0m\u001b[1;33m\u001b[0m\u001b[1;33m\u001b[0m\u001b[0m\n",
      "\u001b[1;32m<ipython-input-2-35e9d28caa35>\u001b[0m in \u001b[0;36mread_images\u001b[1;34m(path, num_img)\u001b[0m\n\u001b[0;32m     10\u001b[0m     \u001b[0marray\u001b[0m\u001b[1;33m=\u001b[0m\u001b[0mnp\u001b[0m\u001b[1;33m.\u001b[0m\u001b[0mzeros\u001b[0m\u001b[1;33m(\u001b[0m\u001b[1;33m(\u001b[0m\u001b[0mnum_img\u001b[0m\u001b[1;33m,\u001b[0m\u001b[1;36m224\u001b[0m\u001b[1;33m,\u001b[0m\u001b[1;36m224\u001b[0m\u001b[1;33m,\u001b[0m\u001b[1;36m3\u001b[0m\u001b[1;33m)\u001b[0m\u001b[1;33m)\u001b[0m\u001b[1;33m\u001b[0m\u001b[1;33m\u001b[0m\u001b[0m\n\u001b[0;32m     11\u001b[0m     \u001b[0mi\u001b[0m\u001b[1;33m=\u001b[0m\u001b[1;36m0\u001b[0m\u001b[1;33m\u001b[0m\u001b[1;33m\u001b[0m\u001b[0m\n\u001b[1;32m---> 12\u001b[1;33m     \u001b[1;32mfor\u001b[0m \u001b[0mimg\u001b[0m \u001b[1;32min\u001b[0m \u001b[0mos\u001b[0m\u001b[1;33m.\u001b[0m\u001b[0mlistdir\u001b[0m\u001b[1;33m(\u001b[0m\u001b[0mpath\u001b[0m\u001b[1;33m)\u001b[0m\u001b[1;33m:\u001b[0m\u001b[1;33m\u001b[0m\u001b[1;33m\u001b[0m\u001b[0m\n\u001b[0m\u001b[0;32m     13\u001b[0m         \u001b[1;32mif\u001b[0m \u001b[1;33m(\u001b[0m\u001b[0mi\u001b[0m \u001b[1;33m==\u001b[0m \u001b[0mnum_img\u001b[0m\u001b[1;33m)\u001b[0m\u001b[1;33m:\u001b[0m\u001b[1;33m\u001b[0m\u001b[1;33m\u001b[0m\u001b[0m\n\u001b[0;32m     14\u001b[0m             \u001b[1;32mbreak\u001b[0m\u001b[1;33m\u001b[0m\u001b[1;33m\u001b[0m\u001b[0m\n",
      "\u001b[1;31mFileNotFoundError\u001b[0m: [WinError 3] The system cannot find the path specified: '../input/diabetic-retinopathy-2015-data-colored-resized/colored_images/colored_images/No_DR'"
     ]
    }
   ],
   "source": [
    "## Load Images from Each Folder\n",
    "#Reduce Dataset Size by Factor (to avoid running out of RAM)\n",
    "ReductionFactor = 20\n",
    "\n",
    "# Base Path\n",
    "path = ('../input/diabetic-retinopathy-2015-data-colored-resized/colored_images/colored_images/')\n",
    "\n",
    "# Image Reading Function\n",
    "def read_images(path,num_img):\n",
    "    array=np.zeros((num_img,224,224,3))\n",
    "    i=0\n",
    "    for img in os.listdir(path):\n",
    "        if (i == num_img):\n",
    "            break\n",
    "        img_path=path + \"/\" + img\n",
    "        img=Image.open(img_path,mode=\"r\")\n",
    "        data=np.asarray(img,dtype=\"uint8\")\n",
    "        array[i]=data\n",
    "     \n",
    "        i+=1\n",
    "    return array\n",
    "\n",
    "# No DR\n",
    "noDR_dir = os.path.join(path, 'No_DR')\n",
    "n_noDR=math.ceil(len(glob(os.path.join(path, 'No_DR/*')))/ReductionFactor)\n",
    "X_noDR=read_images(noDR_dir,n_noDR)\n",
    "X_noDR=X_noDR.astype(np.uint8)\n",
    "print(\"No DR Shape: \",X_noDR.shape)\n",
    "\n",
    "# Mild DR\n",
    "mildDR_dir = os.path.join(path, 'Mild')\n",
    "n_mildDR=math.ceil(len(glob(os.path.join(path, 'Mild/*')))/ReductionFactor)\n",
    "X_mildDR=read_images(mildDR_dir,n_mildDR)\n",
    "X_mildDR=X_mildDR.astype(np.uint8)\n",
    "print(\"Mild DR Shape: \",X_mildDR.shape)\n",
    "\n",
    "# Moderate DR\n",
    "modDR_dir = os.path.join(path, 'Moderate')\n",
    "n_modDR=math.ceil(len(glob(os.path.join(path, 'Moderate/*')))/ReductionFactor)\n",
    "X_modDR=read_images(modDR_dir,n_modDR)\n",
    "X_modDR=X_modDR.astype(np.uint8)\n",
    "print(\"Moderate DR Shape: \",X_modDR.shape)\n",
    "\n",
    "# Proliferate DR\n",
    "proDR_dir = os.path.join(path, 'Proliferate_DR')\n",
    "n_proDR=math.ceil(len(glob(os.path.join(path, 'Proliferate_DR/*')))/ReductionFactor)\n",
    "X_proDR=read_images(proDR_dir,n_proDR)\n",
    "X_proDR=X_proDR.astype(np.uint8)\n",
    "print(\"Proliferate DR Shape: \",X_proDR.shape)\n",
    "\n",
    "# Severe DR\n",
    "sevDR_dir = os.path.join(path, 'Severe')\n",
    "n_sevDR=math.ceil(len(glob(os.path.join(path, 'Severe/*')))/ReductionFactor)\n",
    "X_sevDR=read_images(sevDR_dir,n_sevDR)\n",
    "X_sevDR=X_sevDR.astype(np.uint8)\n",
    "print(\"Severe DR Shape: \",X_sevDR.shape)"
   ]
  },
  {
   "cell_type": "code",
   "execution_count": 3,
   "metadata": {},
   "outputs": [
    {
     "ename": "NameError",
     "evalue": "name 'X_noDR' is not defined",
     "output_type": "error",
     "traceback": [
      "\u001b[1;31m---------------------------------------------------------------------------\u001b[0m",
      "\u001b[1;31mNameError\u001b[0m                                 Traceback (most recent call last)",
      "\u001b[1;32m<ipython-input-3-ee83a765c61e>\u001b[0m in \u001b[0;36m<module>\u001b[1;34m\u001b[0m\n\u001b[0;32m      5\u001b[0m \u001b[1;31m# No DR\u001b[0m\u001b[1;33m\u001b[0m\u001b[1;33m\u001b[0m\u001b[1;33m\u001b[0m\u001b[0m\n\u001b[0;32m      6\u001b[0m \u001b[0mfig\u001b[0m\u001b[1;33m.\u001b[0m\u001b[0madd_subplot\u001b[0m\u001b[1;33m(\u001b[0m\u001b[1;36m1\u001b[0m\u001b[1;33m,\u001b[0m\u001b[1;36m5\u001b[0m\u001b[1;33m,\u001b[0m\u001b[1;36m1\u001b[0m\u001b[1;33m)\u001b[0m\u001b[1;33m\u001b[0m\u001b[1;33m\u001b[0m\u001b[0m\n\u001b[1;32m----> 7\u001b[1;33m \u001b[0mplt\u001b[0m\u001b[1;33m.\u001b[0m\u001b[0mimshow\u001b[0m\u001b[1;33m(\u001b[0m\u001b[0mX_noDR\u001b[0m\u001b[1;33m[\u001b[0m\u001b[1;36m5\u001b[0m\u001b[1;33m]\u001b[0m\u001b[1;33m)\u001b[0m\u001b[1;33m\u001b[0m\u001b[1;33m\u001b[0m\u001b[0m\n\u001b[0m\u001b[0;32m      8\u001b[0m \u001b[0mplt\u001b[0m\u001b[1;33m.\u001b[0m\u001b[0maxis\u001b[0m\u001b[1;33m(\u001b[0m\u001b[1;34m\"off\"\u001b[0m\u001b[1;33m)\u001b[0m\u001b[1;33m\u001b[0m\u001b[1;33m\u001b[0m\u001b[0m\n\u001b[0;32m      9\u001b[0m \u001b[1;33m\u001b[0m\u001b[0m\n",
      "\u001b[1;31mNameError\u001b[0m: name 'X_noDR' is not defined"
     ]
    },
    {
     "data": {
      "image/png": "[encoded data removed]",
      "text/plain": [
       "<Figure size 432x288 with 1 Axes>"
      ]
     },
     "metadata": {
      "needs_background": "light"
     },
     "output_type": "display_data"
    }
   ],
   "source": [
    "## Show an Image from Each Category\n",
    "fig=plt.figure()\n",
    "fig.suptitle('Left to Right: No DR, Mild, Moderate, Proliferate, Severe')\n",
    "\n",
    "# No DR\n",
    "fig.add_subplot(1,5,1)\n",
    "plt.imshow(X_noDR[5])\n",
    "plt.axis(\"off\")\n",
    "\n",
    "# Mild DR\n",
    "fig.add_subplot(1,5,2)\n",
    "plt.imshow(X_mildDR[5])\n",
    "plt.axis(\"off\")\n",
    "\n",
    "# Moderate DR\n",
    "fig.add_subplot(1,5,3)\n",
    "plt.imshow(X_modDR[5])\n",
    "plt.axis(\"off\")\n",
    "\n",
    "# Proliferate DR\n",
    "fig.add_subplot(1,5,4)\n",
    "plt.imshow(X_proDR[5])\n",
    "plt.axis(\"off\")\n",
    "\n",
    "# Severe DR\n",
    "fig.add_subplot(1,5,5)\n",
    "plt.imshow(X_sevDR[5])\n",
    "plt.axis(\"off\")\n",
    "\n",
    "plt.show()"
   ]
  },
  {
   "cell_type": "code",
   "execution_count": null,
   "metadata": {},
   "outputs": [],
   "source": [
    "## Combine Arrays to Single X Array\n",
    "# Concatenate\n",
    "X=np.concatenate((X_noDR,X_mildDR,X_modDR,X_proDR,X_sevDR),axis=0)\n",
    "print(\"X Shape: \",X.shape)\n",
    "\n",
    "# Delete Arrays to Save RAM\n",
    "del X_noDR, X_mildDR, X_modDR, X_proDR, X_sevDR"
   ]
  },
  {
   "cell_type": "code",
   "execution_count": null,
   "metadata": {},
   "outputs": [],
   "source": [
    "## Normalise RGB Values to be in Range 0-1\n",
    "X = X / 255.0"
   ]
  },
  {
   "cell_type": "code",
   "execution_count": null,
   "metadata": {},
   "outputs": [],
   "source": [
    "## Create Labels Array Y\n",
    "# No DR\n",
    "zeros=np.zeros(n_noDR)\n",
    "\n",
    "# DR\n",
    "ones=np.ones(n_mildDR+n_modDR+n_proDR+n_sevDR)\n",
    "\n",
    "Y = np.concatenate((zeros,ones),axis=0)\n",
    "print(\"Y Shape: \",Y.shape)\n",
    "## Create Class Weights Dict\n",
    "weights={0: (len(zeros)/(len(zeros)+len(ones))), 1: (len(ones)/(len(zeros)+len(ones)))}"
   ]
  },
  {
   "cell_type": "code",
   "execution_count": null,
   "metadata": {},
   "outputs": [],
   "source": [
    "## Shuffle Data\n",
    "X, Y = shuffle(X, Y)"
   ]
  },
  {
   "cell_type": "code",
   "execution_count": null,
   "metadata": {},
   "outputs": [],
   "source": [
    "## Split into Training, Validation and Test (and one-hot-encode labels arrays)\n",
    "# Split\n",
    "(X_train, X_TestAndVal, Y_train, Y_TestAndVal) = train_test_split(X, Y, test_size=0.20)\n",
    "(X_val, X_test, Y_val, Y_test) = train_test_split(X_TestAndVal, Y_TestAndVal, test_size=0.50)\n",
    "print(\"X_train Shape: \",X_train.shape)\n",
    "print(\"X_val Shape: \",X_val.shape)\n",
    "print(\"X_test Shape: \",X_test.shape)"
   ]
  },
  {
   "cell_type": "code",
   "execution_count": null,
   "metadata": {},
   "outputs": [],
   "source": [
    "## Show How Many Images of Each Category are in Training Set\n",
    "sns.countplot(Y_train)"
   ]
  },
  {
   "cell_type": "code",
   "execution_count": null,
   "metadata": {},
   "outputs": [],
   "source": [
    "## Show How Many Images of Each Category are in Validation Set\n",
    "sns.countplot(Y_val)"
   ]
  },
  {
   "cell_type": "code",
   "execution_count": null,
   "metadata": {},
   "outputs": [],
   "source": [
    "## Show How Many Images of Each Category are in Test Set\n",
    "sns.countplot(Y_test)"
   ]
  },
  {
   "cell_type": "code",
   "execution_count": null,
   "metadata": {},
   "outputs": [],
   "source": [
    "del X, Y, X_TestAndVal, Y_TestAndVal"
   ]
  },
  {
   "cell_type": "markdown",
   "metadata": {},
   "source": [
    "## Build Model"
   ]
  },
  {
   "cell_type": "code",
   "execution_count": null,
   "metadata": {},
   "outputs": [],
   "source": [
    "pretrained_model = VGG16(input_shape=(X_train.shape[1], X_train.shape[2], X_train.shape[3]), include_top=False, weights=\"imagenet\")\n",
    "#pretrained_model.summary()"
   ]
  },
  {
   "cell_type": "code",
   "execution_count": null,
   "metadata": {},
   "outputs": [],
   "source": [
    "for layer in pretrained_model.layers[:15]:\n",
    "    layer.trainable = False\n",
    " \n",
    "for layer in pretrained_model.layers[13:]:\n",
    "    layer.trainable = True"
   ]
  },
  {
   "cell_type": "code",
   "execution_count": null,
   "metadata": {},
   "outputs": [],
   "source": [
    "layer_dict = dict([(layer.name, layer) for layer in pretrained_model.layers])\n",
    "\n",
    "x = layer_dict['block5_pool'].output\n",
    "\n",
    "x = Flatten()(x)\n",
    "#Fully connected layer\n",
    "x = Dense(256, activation='relu')(x)\n",
    "x = Dropout(0.2)(x)\n",
    "#this is the final layer so the size of output in this layer is equal to the number of class in our problem\n",
    "x = Dense(1, activation='sigmoid')(x)\n",
    "#create the new model\n",
    "custom_model = Model(pretrained_model.input, outputs=x)"
   ]
  },
  {
   "cell_type": "code",
   "execution_count": null,
   "metadata": {},
   "outputs": [],
   "source": [
    "custom_model.summary()"
   ]
  },
  {
   "cell_type": "code",
   "execution_count": null,
   "metadata": {},
   "outputs": [],
   "source": [
    "custom_model.compile(optimizer='adam', loss = 'BinaryCrossentropy', metrics=['AUC'])"
   ]
  },
  {
   "cell_type": "markdown",
   "metadata": {},
   "source": [
    "## Train the Trainable Layers"
   ]
  },
  {
   "cell_type": "code",
   "execution_count": null,
   "metadata": {},
   "outputs": [],
   "source": [
    "#train the model\n",
    "History = custom_model.fit(X_train, Y_train, validation_data=(X_val, Y_val), epochs=15, batch_size=200, class_weight = weights)"
   ]
  },
  {
   "cell_type": "code",
   "execution_count": null,
   "metadata": {},
   "outputs": [],
   "source": [
    "plt.figure(figsize=(20,10))\n",
    "plt.subplot(1,2,1)\n",
    "plt.plot(History.history[\"loss\"],label=\"train loss\")\n",
    "plt.plot(History.history[\"val_loss\"],label=\"val loss\")\n",
    "plt.legend()\n",
    "plt.show()"
   ]
  },
  {
   "cell_type": "code",
   "execution_count": null,
   "metadata": {},
   "outputs": [],
   "source": [
    "plt.figure(figsize=(20,10))\n",
    "plt.subplot(1,2,2)\n",
    "plt.plot(History.history[\"accuracy\"],label=\"train accuracy\")\n",
    "plt.plot(History.history[\"val_accuracy\"],label=\"val accuracy\")\n",
    "plt.legend()\n",
    "plt.show()"
   ]
  },
  {
   "cell_type": "markdown",
   "metadata": {},
   "source": [
    "# Performance on Test Set"
   ]
  },
  {
   "cell_type": "code",
   "execution_count": null,
   "metadata": {},
   "outputs": [],
   "source": [
    "## Test Accuracy\n",
    "score, acc = custom_model.evaluate(X_test, Y_test,verbose = 0)\n",
    "print('Test score:', score)\n",
    "print('Test accuracy:', acc)"
   ]
  },
  {
   "cell_type": "code",
   "execution_count": null,
   "metadata": {},
   "outputs": [],
   "source": [
    "## Confusion Matrix\n",
    "predictions = custom_model.predict(X_test)\n",
    "print(predictions)\n",
    "print(Y_test)"
   ]
  }
 ],
 "metadata": {
  "kernelspec": {
   "display_name": "Python 3",
   "language": "python",
   "name": "python3"
  },
  "language_info": {
   "codemirror_mode": {
    "name": "ipython",
    "version": 3
   },
   "file_extension": ".py",
   "mimetype": "text/x-python",
   "name": "python",
   "nbconvert_exporter": "python",
   "pygments_lexer": "ipython3",
   "version": "3.8.3"
  }
 },
 "nbformat": 4,
 "nbformat_minor": 4
}
